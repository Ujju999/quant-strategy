{
 "cells": [
  {
   "cell_type": "code",
   "execution_count": 6,
   "id": "31b8be3f",
   "metadata": {},
   "outputs": [
    {
     "data": {
      "text/plain": [
       "<module 'research' from '/Users/ujjawalpratapsingh/Documents/quant-strategy/research.py'>"
      ]
     },
     "execution_count": 6,
     "metadata": {},
     "output_type": "execute_result"
    }
   ],
   "source": [
    "import polars as pl\n",
    "import numpy as np\n",
    "from datetime import datetime,timedelta\n",
    "import random\n",
    "\n",
    "# Pytorch for ML\n",
    "\n",
    "import torch\n",
    "import torch.nn as nn\n",
    "import torch.optim as optim\n",
    "import research\n",
    "\n",
    "#visualization\n",
    "import altair as alt\n",
    "\n",
    "#data\n",
    "import binance\n",
    "\n",
    "import importlib\n",
    "importlib.reload(research)"
   ]
  },
  {
   "cell_type": "code",
   "execution_count": 3,
   "id": "3f3655e1",
   "metadata": {},
   "outputs": [],
   "source": [
    "research.set_seed(42)"
   ]
  },
  {
   "cell_type": "code",
   "execution_count": 5,
   "id": "5d53ed14",
   "metadata": {},
   "outputs": [
    {
     "data": {
      "text/plain": [
       "polars.config.Config"
      ]
     },
     "execution_count": 5,
     "metadata": {},
     "output_type": "execute_result"
    }
   ],
   "source": [
    "pl.Config.set_tbl_width_chars(200)\n",
    "pl.Config.set_fmt_str_lengths(100)\n",
    "pl.Config.set_tbl_cols(-1)"
   ]
  },
  {
   "cell_type": "code",
   "execution_count": 7,
   "id": "cab8dbe3",
   "metadata": {},
   "outputs": [],
   "source": [
    "sym = 'BTCUSDT'\n",
    "\n",
    "hist_data_window = 7 * 4 * 6\n",
    "\n",
    "time_interval = '1h'\n",
    "\n",
    "max_lags = 4\n",
    "\n",
    "forecast_horizon = 1\n",
    "\n",
    "annualized_rate = research.sharpe_annualization_factor(time_interval, 365,24)"
   ]
  },
  {
   "cell_type": "code",
   "execution_count": null,
   "id": "4c307aeb",
   "metadata": {},
   "outputs": [],
   "source": []
  }
 ],
 "metadata": {
  "kernelspec": {
   "display_name": "quant-strategy",
   "language": "python",
   "name": "python3"
  },
  "language_info": {
   "codemirror_mode": {
    "name": "ipython",
    "version": 3
   },
   "file_extension": ".py",
   "mimetype": "text/x-python",
   "name": "python",
   "nbconvert_exporter": "python",
   "pygments_lexer": "ipython3",
   "version": "3.11.9"
  }
 },
 "nbformat": 4,
 "nbformat_minor": 5
}
